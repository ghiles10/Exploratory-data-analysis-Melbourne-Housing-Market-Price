{
 "cells": [
  {
   "cell_type": "markdown",
   "id": "3c0588f5-bc35-47d0-9b5f-2e91c607c18f",
   "metadata": {
    "editable": false,
    "nbgrader": {
     "cell_type": "markdown",
     "checksum": "de71d6097b4b022346e923fe8d983bf9",
     "grade": false,
     "grade_id": "cell-b6537d743cae0639",
     "locked": true,
     "schema_version": 3,
     "solution": false,
     "task": false
    }
   },
   "source": [
    "# Chargement des modules"
   ]
  },
  {
   "cell_type": "code",
   "execution_count": 2,
   "id": "0116f522-1f0a-4976-b9e3-f41044bade7e",
   "metadata": {
    "nbgrader": {
     "cell_type": "code",
     "checksum": "46420ae364f4aac7c213a3b8ff997e32",
     "grade": true,
     "grade_id": "cell-d9af6da0e0090c23",
     "locked": false,
     "points": 0,
     "schema_version": 3,
     "solution": true,
     "task": false
    }
   },
   "outputs": [],
   "source": [
    "import numpy as np\n",
    "import pandas as pd \n",
    "import matplotlib.pyplot as plt \n",
    "import seaborn as sns \n",
    "\n",
    "%matplotlib inline\n",
    "plt.style.use('ggplot')\n",
    "plt.rcParams['figure.figsize'] = (12, 8) \n",
    "sns.set('talk', rc={'figure.figsize': (12, 8)})"
   ]
  },
  {
   "cell_type": "markdown",
   "id": "d7c09fa1-41b1-4fbc-bd69-630a718d27ed",
   "metadata": {
    "editable": false,
    "nbgrader": {
     "cell_type": "markdown",
     "checksum": "b19ca406a7e5c3e39854d6917f78e6e8",
     "grade": false,
     "grade_id": "cell-293dffd64dc4773e",
     "locked": true,
     "schema_version": 3,
     "solution": false,
     "task": false
    }
   },
   "source": [
    "# Données"
   ]
  },
  {
   "cell_type": "markdown",
   "id": "291e07cc-c2b8-4060-864d-f87d5ead934a",
   "metadata": {
    "editable": false,
    "nbgrader": {
     "cell_type": "markdown",
     "checksum": "61469f644032d5fc85cc51419ec18caf",
     "grade": false,
     "grade_id": "cell-f5f7f219f0b1385f",
     "locked": true,
     "schema_version": 3,
     "solution": false,
     "task": false
    }
   },
   "source": [
    "## Source des données"
   ]
  },
  {
   "cell_type": "markdown",
   "id": "0c849d39-e737-4968-b053-d4e9268ad0cb",
   "metadata": {
    "nbgrader": {
     "cell_type": "markdown",
     "checksum": "eafdfa945e82706daa7390c1de0c1b49",
     "grade": true,
     "grade_id": "cell-f9cd03d115696e49",
     "locked": false,
     "points": 0,
     "schema_version": 3,
     "solution": true,
     "task": false
    }
   },
   "source": [
    "https://www.kaggle.com/anthonypino/melbourne-housing-market?select=Melbourne_housing_FULL.csv"
   ]
  },
  {
   "cell_type": "markdown",
   "id": "72720ab8-aa8a-4296-80ee-1aec757009c1",
   "metadata": {
    "editable": false,
    "nbgrader": {
     "cell_type": "markdown",
     "checksum": "92c0f3f8033579609defafd20a41563a",
     "grade": false,
     "grade_id": "cell-20b1ba05d4e0985c",
     "locked": true,
     "schema_version": 3,
     "solution": false,
     "task": false
    }
   },
   "source": [
    "## Chargement des données (1 point)"
   ]
  },
  {
   "cell_type": "code",
   "execution_count": 3,
   "id": "7eb1cfbb-2452-4b24-b663-ed021197d017",
   "metadata": {
    "nbgrader": {
     "cell_type": "code",
     "checksum": "320e1f297330c8748e3a1e284335c87f",
     "grade": true,
     "grade_id": "cell-4bb5e9dec0a81c5c",
     "locked": false,
     "points": 1,
     "schema_version": 3,
     "solution": true,
     "task": false
    }
   },
   "outputs": [],
   "source": [
    "df = pd.read_csv('data/Melbourne_housing_FULL.csv')"
   ]
  },
  {
   "cell_type": "markdown",
   "id": "c2cd2b66-0b46-4d0b-be5f-cc8decd39fc3",
   "metadata": {
    "editable": false,
    "nbgrader": {
     "cell_type": "markdown",
     "checksum": "657a9c045be8b62791664c3ea49e55fe",
     "grade": false,
     "grade_id": "cell-56eccdc233654ccc",
     "locked": true,
     "schema_version": 3,
     "solution": false,
     "task": false
    }
   },
   "source": [
    "# Première analyse"
   ]
  },
  {
   "cell_type": "markdown",
   "id": "7e2efb7d-9b18-40d5-a13c-5dc2ade641ec",
   "metadata": {
    "editable": false,
    "nbgrader": {
     "cell_type": "markdown",
     "checksum": "e9b6e90ba62991969d5f752f455d83b3",
     "grade": false,
     "grade_id": "cell-03323950abafff21",
     "locked": true,
     "schema_version": 3,
     "solution": false,
     "task": false
    }
   },
   "source": [
    "## Affichage de lignes du DataFrame (2 points)"
   ]
  },
  {
   "cell_type": "code",
   "execution_count": 4,
   "id": "1a82e567-65c3-4041-888c-1586701ea330",
   "metadata": {
    "nbgrader": {
     "cell_type": "code",
     "checksum": "b87d1a3bf4b5efb46f2cef81e9d0590d",
     "grade": true,
     "grade_id": "cell-640353783cdc4f9b",
     "locked": false,
     "points": 1,
     "schema_version": 3,
     "solution": true,
     "task": false
    }
   },
   "outputs": [
    {
     "data": {
      "text/html": [
       "<div>\n",
       "<style scoped>\n",
       "    .dataframe tbody tr th:only-of-type {\n",
       "        vertical-align: middle;\n",
       "    }\n",
       "\n",
       "    .dataframe tbody tr th {\n",
       "        vertical-align: top;\n",
       "    }\n",
       "\n",
       "    .dataframe thead th {\n",
       "        text-align: right;\n",
       "    }\n",
       "</style>\n",
       "<table border=\"1\" class=\"dataframe\">\n",
       "  <thead>\n",
       "    <tr style=\"text-align: right;\">\n",
       "      <th></th>\n",
       "      <th>Suburb</th>\n",
       "      <th>Address</th>\n",
       "      <th>Rooms</th>\n",
       "      <th>Type</th>\n",
       "      <th>Price</th>\n",
       "      <th>Method</th>\n",
       "      <th>SellerG</th>\n",
       "      <th>Date</th>\n",
       "      <th>Distance</th>\n",
       "      <th>Postcode</th>\n",
       "      <th>...</th>\n",
       "      <th>Bathroom</th>\n",
       "      <th>Car</th>\n",
       "      <th>Landsize</th>\n",
       "      <th>BuildingArea</th>\n",
       "      <th>YearBuilt</th>\n",
       "      <th>CouncilArea</th>\n",
       "      <th>Lattitude</th>\n",
       "      <th>Longtitude</th>\n",
       "      <th>Regionname</th>\n",
       "      <th>Propertycount</th>\n",
       "    </tr>\n",
       "  </thead>\n",
       "  <tbody>\n",
       "    <tr>\n",
       "      <th>0</th>\n",
       "      <td>Abbotsford</td>\n",
       "      <td>68 Studley St</td>\n",
       "      <td>2</td>\n",
       "      <td>h</td>\n",
       "      <td>NaN</td>\n",
       "      <td>SS</td>\n",
       "      <td>Jellis</td>\n",
       "      <td>3/09/2016</td>\n",
       "      <td>2.5</td>\n",
       "      <td>3067.0</td>\n",
       "      <td>...</td>\n",
       "      <td>1.0</td>\n",
       "      <td>1.0</td>\n",
       "      <td>126.0</td>\n",
       "      <td>NaN</td>\n",
       "      <td>NaN</td>\n",
       "      <td>Yarra City Council</td>\n",
       "      <td>-37.8014</td>\n",
       "      <td>144.9958</td>\n",
       "      <td>Northern Metropolitan</td>\n",
       "      <td>4019.0</td>\n",
       "    </tr>\n",
       "    <tr>\n",
       "      <th>1</th>\n",
       "      <td>Abbotsford</td>\n",
       "      <td>85 Turner St</td>\n",
       "      <td>2</td>\n",
       "      <td>h</td>\n",
       "      <td>1480000.0</td>\n",
       "      <td>S</td>\n",
       "      <td>Biggin</td>\n",
       "      <td>3/12/2016</td>\n",
       "      <td>2.5</td>\n",
       "      <td>3067.0</td>\n",
       "      <td>...</td>\n",
       "      <td>1.0</td>\n",
       "      <td>1.0</td>\n",
       "      <td>202.0</td>\n",
       "      <td>NaN</td>\n",
       "      <td>NaN</td>\n",
       "      <td>Yarra City Council</td>\n",
       "      <td>-37.7996</td>\n",
       "      <td>144.9984</td>\n",
       "      <td>Northern Metropolitan</td>\n",
       "      <td>4019.0</td>\n",
       "    </tr>\n",
       "    <tr>\n",
       "      <th>2</th>\n",
       "      <td>Abbotsford</td>\n",
       "      <td>25 Bloomburg St</td>\n",
       "      <td>2</td>\n",
       "      <td>h</td>\n",
       "      <td>1035000.0</td>\n",
       "      <td>S</td>\n",
       "      <td>Biggin</td>\n",
       "      <td>4/02/2016</td>\n",
       "      <td>2.5</td>\n",
       "      <td>3067.0</td>\n",
       "      <td>...</td>\n",
       "      <td>1.0</td>\n",
       "      <td>0.0</td>\n",
       "      <td>156.0</td>\n",
       "      <td>79.0</td>\n",
       "      <td>1900.0</td>\n",
       "      <td>Yarra City Council</td>\n",
       "      <td>-37.8079</td>\n",
       "      <td>144.9934</td>\n",
       "      <td>Northern Metropolitan</td>\n",
       "      <td>4019.0</td>\n",
       "    </tr>\n",
       "    <tr>\n",
       "      <th>3</th>\n",
       "      <td>Abbotsford</td>\n",
       "      <td>18/659 Victoria St</td>\n",
       "      <td>3</td>\n",
       "      <td>u</td>\n",
       "      <td>NaN</td>\n",
       "      <td>VB</td>\n",
       "      <td>Rounds</td>\n",
       "      <td>4/02/2016</td>\n",
       "      <td>2.5</td>\n",
       "      <td>3067.0</td>\n",
       "      <td>...</td>\n",
       "      <td>2.0</td>\n",
       "      <td>1.0</td>\n",
       "      <td>0.0</td>\n",
       "      <td>NaN</td>\n",
       "      <td>NaN</td>\n",
       "      <td>Yarra City Council</td>\n",
       "      <td>-37.8114</td>\n",
       "      <td>145.0116</td>\n",
       "      <td>Northern Metropolitan</td>\n",
       "      <td>4019.0</td>\n",
       "    </tr>\n",
       "    <tr>\n",
       "      <th>4</th>\n",
       "      <td>Abbotsford</td>\n",
       "      <td>5 Charles St</td>\n",
       "      <td>3</td>\n",
       "      <td>h</td>\n",
       "      <td>1465000.0</td>\n",
       "      <td>SP</td>\n",
       "      <td>Biggin</td>\n",
       "      <td>4/03/2017</td>\n",
       "      <td>2.5</td>\n",
       "      <td>3067.0</td>\n",
       "      <td>...</td>\n",
       "      <td>2.0</td>\n",
       "      <td>0.0</td>\n",
       "      <td>134.0</td>\n",
       "      <td>150.0</td>\n",
       "      <td>1900.0</td>\n",
       "      <td>Yarra City Council</td>\n",
       "      <td>-37.8093</td>\n",
       "      <td>144.9944</td>\n",
       "      <td>Northern Metropolitan</td>\n",
       "      <td>4019.0</td>\n",
       "    </tr>\n",
       "  </tbody>\n",
       "</table>\n",
       "<p>5 rows × 21 columns</p>\n",
       "</div>"
      ],
      "text/plain": [
       "       Suburb             Address  Rooms Type      Price Method SellerG  \\\n",
       "0  Abbotsford       68 Studley St      2    h        NaN     SS  Jellis   \n",
       "1  Abbotsford        85 Turner St      2    h  1480000.0      S  Biggin   \n",
       "2  Abbotsford     25 Bloomburg St      2    h  1035000.0      S  Biggin   \n",
       "3  Abbotsford  18/659 Victoria St      3    u        NaN     VB  Rounds   \n",
       "4  Abbotsford        5 Charles St      3    h  1465000.0     SP  Biggin   \n",
       "\n",
       "        Date  Distance  Postcode  ...  Bathroom  Car  Landsize  BuildingArea  \\\n",
       "0  3/09/2016       2.5    3067.0  ...       1.0  1.0     126.0           NaN   \n",
       "1  3/12/2016       2.5    3067.0  ...       1.0  1.0     202.0           NaN   \n",
       "2  4/02/2016       2.5    3067.0  ...       1.0  0.0     156.0          79.0   \n",
       "3  4/02/2016       2.5    3067.0  ...       2.0  1.0       0.0           NaN   \n",
       "4  4/03/2017       2.5    3067.0  ...       2.0  0.0     134.0         150.0   \n",
       "\n",
       "   YearBuilt         CouncilArea Lattitude  Longtitude             Regionname  \\\n",
       "0        NaN  Yarra City Council  -37.8014    144.9958  Northern Metropolitan   \n",
       "1        NaN  Yarra City Council  -37.7996    144.9984  Northern Metropolitan   \n",
       "2     1900.0  Yarra City Council  -37.8079    144.9934  Northern Metropolitan   \n",
       "3        NaN  Yarra City Council  -37.8114    145.0116  Northern Metropolitan   \n",
       "4     1900.0  Yarra City Council  -37.8093    144.9944  Northern Metropolitan   \n",
       "\n",
       "  Propertycount  \n",
       "0        4019.0  \n",
       "1        4019.0  \n",
       "2        4019.0  \n",
       "3        4019.0  \n",
       "4        4019.0  \n",
       "\n",
       "[5 rows x 21 columns]"
      ]
     },
     "execution_count": 4,
     "metadata": {},
     "output_type": "execute_result"
    }
   ],
   "source": [
    "df.head()"
   ]
  },
  {
   "cell_type": "markdown",
   "id": "b2cf6767-18d3-44b9-b4ba-e7c55dc6a84e",
   "metadata": {
    "editable": false,
    "nbgrader": {
     "cell_type": "markdown",
     "checksum": "d81dcef2f859eb162e22e844544c8f2a",
     "grade": false,
     "grade_id": "cell-da7ed15f09fee12b",
     "locked": true,
     "schema_version": 3,
     "solution": false,
     "task": false
    }
   },
   "source": [
    "Les dernières lignes :"
   ]
  },
  {
   "cell_type": "code",
   "execution_count": 5,
   "id": "405d90db-6a5a-42b2-bb40-e3e87d614845",
   "metadata": {
    "nbgrader": {
     "cell_type": "code",
     "checksum": "84fd24471336b68ee16f55c204dfcfc2",
     "grade": true,
     "grade_id": "cell-5fc718e278c5c7d7",
     "locked": false,
     "points": 0,
     "schema_version": 3,
     "solution": true,
     "task": false
    }
   },
   "outputs": [
    {
     "data": {
      "text/html": [
       "<div>\n",
       "<style scoped>\n",
       "    .dataframe tbody tr th:only-of-type {\n",
       "        vertical-align: middle;\n",
       "    }\n",
       "\n",
       "    .dataframe tbody tr th {\n",
       "        vertical-align: top;\n",
       "    }\n",
       "\n",
       "    .dataframe thead th {\n",
       "        text-align: right;\n",
       "    }\n",
       "</style>\n",
       "<table border=\"1\" class=\"dataframe\">\n",
       "  <thead>\n",
       "    <tr style=\"text-align: right;\">\n",
       "      <th></th>\n",
       "      <th>Suburb</th>\n",
       "      <th>Address</th>\n",
       "      <th>Rooms</th>\n",
       "      <th>Type</th>\n",
       "      <th>Price</th>\n",
       "      <th>Method</th>\n",
       "      <th>SellerG</th>\n",
       "      <th>Date</th>\n",
       "      <th>Distance</th>\n",
       "      <th>Postcode</th>\n",
       "      <th>...</th>\n",
       "      <th>Bathroom</th>\n",
       "      <th>Car</th>\n",
       "      <th>Landsize</th>\n",
       "      <th>BuildingArea</th>\n",
       "      <th>YearBuilt</th>\n",
       "      <th>CouncilArea</th>\n",
       "      <th>Lattitude</th>\n",
       "      <th>Longtitude</th>\n",
       "      <th>Regionname</th>\n",
       "      <th>Propertycount</th>\n",
       "    </tr>\n",
       "  </thead>\n",
       "  <tbody>\n",
       "    <tr>\n",
       "      <th>34852</th>\n",
       "      <td>Yarraville</td>\n",
       "      <td>13 Burns St</td>\n",
       "      <td>4</td>\n",
       "      <td>h</td>\n",
       "      <td>1480000.0</td>\n",
       "      <td>PI</td>\n",
       "      <td>Jas</td>\n",
       "      <td>24/02/2018</td>\n",
       "      <td>6.3</td>\n",
       "      <td>3013.0</td>\n",
       "      <td>...</td>\n",
       "      <td>1.0</td>\n",
       "      <td>3.0</td>\n",
       "      <td>593.0</td>\n",
       "      <td>NaN</td>\n",
       "      <td>NaN</td>\n",
       "      <td>Maribyrnong City Council</td>\n",
       "      <td>-37.81053</td>\n",
       "      <td>144.88467</td>\n",
       "      <td>Western Metropolitan</td>\n",
       "      <td>6543.0</td>\n",
       "    </tr>\n",
       "    <tr>\n",
       "      <th>34853</th>\n",
       "      <td>Yarraville</td>\n",
       "      <td>29A Murray St</td>\n",
       "      <td>2</td>\n",
       "      <td>h</td>\n",
       "      <td>888000.0</td>\n",
       "      <td>SP</td>\n",
       "      <td>Sweeney</td>\n",
       "      <td>24/02/2018</td>\n",
       "      <td>6.3</td>\n",
       "      <td>3013.0</td>\n",
       "      <td>...</td>\n",
       "      <td>2.0</td>\n",
       "      <td>1.0</td>\n",
       "      <td>98.0</td>\n",
       "      <td>104.0</td>\n",
       "      <td>2018.0</td>\n",
       "      <td>Maribyrnong City Council</td>\n",
       "      <td>-37.81551</td>\n",
       "      <td>144.88826</td>\n",
       "      <td>Western Metropolitan</td>\n",
       "      <td>6543.0</td>\n",
       "    </tr>\n",
       "    <tr>\n",
       "      <th>34854</th>\n",
       "      <td>Yarraville</td>\n",
       "      <td>147A Severn St</td>\n",
       "      <td>2</td>\n",
       "      <td>t</td>\n",
       "      <td>705000.0</td>\n",
       "      <td>S</td>\n",
       "      <td>Jas</td>\n",
       "      <td>24/02/2018</td>\n",
       "      <td>6.3</td>\n",
       "      <td>3013.0</td>\n",
       "      <td>...</td>\n",
       "      <td>1.0</td>\n",
       "      <td>2.0</td>\n",
       "      <td>220.0</td>\n",
       "      <td>120.0</td>\n",
       "      <td>2000.0</td>\n",
       "      <td>Maribyrnong City Council</td>\n",
       "      <td>-37.82286</td>\n",
       "      <td>144.87856</td>\n",
       "      <td>Western Metropolitan</td>\n",
       "      <td>6543.0</td>\n",
       "    </tr>\n",
       "    <tr>\n",
       "      <th>34855</th>\n",
       "      <td>Yarraville</td>\n",
       "      <td>12/37 Stephen St</td>\n",
       "      <td>3</td>\n",
       "      <td>h</td>\n",
       "      <td>1140000.0</td>\n",
       "      <td>SP</td>\n",
       "      <td>hockingstuart</td>\n",
       "      <td>24/02/2018</td>\n",
       "      <td>6.3</td>\n",
       "      <td>3013.0</td>\n",
       "      <td>...</td>\n",
       "      <td>NaN</td>\n",
       "      <td>NaN</td>\n",
       "      <td>NaN</td>\n",
       "      <td>NaN</td>\n",
       "      <td>NaN</td>\n",
       "      <td>Maribyrnong City Council</td>\n",
       "      <td>NaN</td>\n",
       "      <td>NaN</td>\n",
       "      <td>Western Metropolitan</td>\n",
       "      <td>6543.0</td>\n",
       "    </tr>\n",
       "    <tr>\n",
       "      <th>34856</th>\n",
       "      <td>Yarraville</td>\n",
       "      <td>3 Tarrengower St</td>\n",
       "      <td>2</td>\n",
       "      <td>h</td>\n",
       "      <td>1020000.0</td>\n",
       "      <td>PI</td>\n",
       "      <td>RW</td>\n",
       "      <td>24/02/2018</td>\n",
       "      <td>6.3</td>\n",
       "      <td>3013.0</td>\n",
       "      <td>...</td>\n",
       "      <td>1.0</td>\n",
       "      <td>0.0</td>\n",
       "      <td>250.0</td>\n",
       "      <td>103.0</td>\n",
       "      <td>1930.0</td>\n",
       "      <td>Maribyrnong City Council</td>\n",
       "      <td>-37.81810</td>\n",
       "      <td>144.89351</td>\n",
       "      <td>Western Metropolitan</td>\n",
       "      <td>6543.0</td>\n",
       "    </tr>\n",
       "  </tbody>\n",
       "</table>\n",
       "<p>5 rows × 21 columns</p>\n",
       "</div>"
      ],
      "text/plain": [
       "           Suburb           Address  Rooms Type      Price Method  \\\n",
       "34852  Yarraville       13 Burns St      4    h  1480000.0     PI   \n",
       "34853  Yarraville     29A Murray St      2    h   888000.0     SP   \n",
       "34854  Yarraville    147A Severn St      2    t   705000.0      S   \n",
       "34855  Yarraville  12/37 Stephen St      3    h  1140000.0     SP   \n",
       "34856  Yarraville  3 Tarrengower St      2    h  1020000.0     PI   \n",
       "\n",
       "             SellerG        Date  Distance  Postcode  ...  Bathroom  Car  \\\n",
       "34852            Jas  24/02/2018       6.3    3013.0  ...       1.0  3.0   \n",
       "34853        Sweeney  24/02/2018       6.3    3013.0  ...       2.0  1.0   \n",
       "34854            Jas  24/02/2018       6.3    3013.0  ...       1.0  2.0   \n",
       "34855  hockingstuart  24/02/2018       6.3    3013.0  ...       NaN  NaN   \n",
       "34856             RW  24/02/2018       6.3    3013.0  ...       1.0  0.0   \n",
       "\n",
       "       Landsize  BuildingArea  YearBuilt               CouncilArea Lattitude  \\\n",
       "34852     593.0           NaN        NaN  Maribyrnong City Council -37.81053   \n",
       "34853      98.0         104.0     2018.0  Maribyrnong City Council -37.81551   \n",
       "34854     220.0         120.0     2000.0  Maribyrnong City Council -37.82286   \n",
       "34855       NaN           NaN        NaN  Maribyrnong City Council       NaN   \n",
       "34856     250.0         103.0     1930.0  Maribyrnong City Council -37.81810   \n",
       "\n",
       "       Longtitude            Regionname Propertycount  \n",
       "34852   144.88467  Western Metropolitan        6543.0  \n",
       "34853   144.88826  Western Metropolitan        6543.0  \n",
       "34854   144.87856  Western Metropolitan        6543.0  \n",
       "34855         NaN  Western Metropolitan        6543.0  \n",
       "34856   144.89351  Western Metropolitan        6543.0  \n",
       "\n",
       "[5 rows x 21 columns]"
      ]
     },
     "execution_count": 5,
     "metadata": {},
     "output_type": "execute_result"
    }
   ],
   "source": [
    "df.tail()"
   ]
  },
  {
   "cell_type": "markdown",
   "id": "a62228c3-6a7a-4621-bbd9-18860f81f3c9",
   "metadata": {
    "editable": false,
    "nbgrader": {
     "cell_type": "markdown",
     "checksum": "b82b4eb5eedbc21c9e5f664653e3f696",
     "grade": false,
     "grade_id": "cell-bfd883e1e3560d8d",
     "locked": true,
     "schema_version": 3,
     "solution": false,
     "task": false
    }
   },
   "source": [
    "Ainsi que des lignes prises au hasard :"
   ]
  },
  {
   "cell_type": "code",
   "execution_count": 6,
   "id": "66ed6b5e-dcc6-46bf-b049-7ce3d8ef4e6e",
   "metadata": {
    "nbgrader": {
     "cell_type": "code",
     "checksum": "7ba87f08796ad799ab08471446e7f2e0",
     "grade": true,
     "grade_id": "cell-4f041210bc4c8b9c",
     "locked": false,
     "points": 1,
     "schema_version": 3,
     "solution": true,
     "task": false
    }
   },
   "outputs": [
    {
     "data": {
      "text/html": [
       "<div>\n",
       "<style scoped>\n",
       "    .dataframe tbody tr th:only-of-type {\n",
       "        vertical-align: middle;\n",
       "    }\n",
       "\n",
       "    .dataframe tbody tr th {\n",
       "        vertical-align: top;\n",
       "    }\n",
       "\n",
       "    .dataframe thead th {\n",
       "        text-align: right;\n",
       "    }\n",
       "</style>\n",
       "<table border=\"1\" class=\"dataframe\">\n",
       "  <thead>\n",
       "    <tr style=\"text-align: right;\">\n",
       "      <th></th>\n",
       "      <th>Suburb</th>\n",
       "      <th>Address</th>\n",
       "      <th>Rooms</th>\n",
       "      <th>Type</th>\n",
       "      <th>Price</th>\n",
       "      <th>Method</th>\n",
       "      <th>SellerG</th>\n",
       "      <th>Date</th>\n",
       "      <th>Distance</th>\n",
       "      <th>Postcode</th>\n",
       "      <th>...</th>\n",
       "      <th>Bathroom</th>\n",
       "      <th>Car</th>\n",
       "      <th>Landsize</th>\n",
       "      <th>BuildingArea</th>\n",
       "      <th>YearBuilt</th>\n",
       "      <th>CouncilArea</th>\n",
       "      <th>Lattitude</th>\n",
       "      <th>Longtitude</th>\n",
       "      <th>Regionname</th>\n",
       "      <th>Propertycount</th>\n",
       "    </tr>\n",
       "  </thead>\n",
       "  <tbody>\n",
       "    <tr>\n",
       "      <th>23371</th>\n",
       "      <td>Pascoe Vale</td>\n",
       "      <td>1 Ann St</td>\n",
       "      <td>4</td>\n",
       "      <td>h</td>\n",
       "      <td>1260000.0</td>\n",
       "      <td>S</td>\n",
       "      <td>Eview</td>\n",
       "      <td>26/08/2017</td>\n",
       "      <td>8.5</td>\n",
       "      <td>3044.0</td>\n",
       "      <td>...</td>\n",
       "      <td>2.0</td>\n",
       "      <td>4.0</td>\n",
       "      <td>578.0</td>\n",
       "      <td>171.0</td>\n",
       "      <td>1920.0</td>\n",
       "      <td>Moreland City Council</td>\n",
       "      <td>-37.73058</td>\n",
       "      <td>144.93530</td>\n",
       "      <td>Northern Metropolitan</td>\n",
       "      <td>7485.0</td>\n",
       "    </tr>\n",
       "    <tr>\n",
       "      <th>33635</th>\n",
       "      <td>Pascoe Vale</td>\n",
       "      <td>7/17 View St</td>\n",
       "      <td>2</td>\n",
       "      <td>t</td>\n",
       "      <td>548000.0</td>\n",
       "      <td>SP</td>\n",
       "      <td>Pagan</td>\n",
       "      <td>17/03/2018</td>\n",
       "      <td>8.5</td>\n",
       "      <td>3044.0</td>\n",
       "      <td>...</td>\n",
       "      <td>NaN</td>\n",
       "      <td>NaN</td>\n",
       "      <td>NaN</td>\n",
       "      <td>NaN</td>\n",
       "      <td>NaN</td>\n",
       "      <td>Moreland City Council</td>\n",
       "      <td>NaN</td>\n",
       "      <td>NaN</td>\n",
       "      <td>Northern Metropolitan</td>\n",
       "      <td>7485.0</td>\n",
       "    </tr>\n",
       "    <tr>\n",
       "      <th>29440</th>\n",
       "      <td>Doncaster</td>\n",
       "      <td>56 Victoria St</td>\n",
       "      <td>3</td>\n",
       "      <td>h</td>\n",
       "      <td>1150000.0</td>\n",
       "      <td>PI</td>\n",
       "      <td>hockingstuart</td>\n",
       "      <td>6/01/2018</td>\n",
       "      <td>12.4</td>\n",
       "      <td>3108.0</td>\n",
       "      <td>...</td>\n",
       "      <td>1.0</td>\n",
       "      <td>2.0</td>\n",
       "      <td>675.0</td>\n",
       "      <td>NaN</td>\n",
       "      <td>NaN</td>\n",
       "      <td>Manningham City Council</td>\n",
       "      <td>-37.78086</td>\n",
       "      <td>145.14491</td>\n",
       "      <td>Eastern Metropolitan</td>\n",
       "      <td>9028.0</td>\n",
       "    </tr>\n",
       "    <tr>\n",
       "      <th>4650</th>\n",
       "      <td>Glen Iris</td>\n",
       "      <td>8 Courang Rd</td>\n",
       "      <td>4</td>\n",
       "      <td>h</td>\n",
       "      <td>NaN</td>\n",
       "      <td>S</td>\n",
       "      <td>Jellis</td>\n",
       "      <td>18/03/2017</td>\n",
       "      <td>9.2</td>\n",
       "      <td>3146.0</td>\n",
       "      <td>...</td>\n",
       "      <td>2.0</td>\n",
       "      <td>2.0</td>\n",
       "      <td>780.0</td>\n",
       "      <td>NaN</td>\n",
       "      <td>1930.0</td>\n",
       "      <td>Boroondara City Council</td>\n",
       "      <td>-37.86130</td>\n",
       "      <td>145.07080</td>\n",
       "      <td>Southern Metropolitan</td>\n",
       "      <td>10412.0</td>\n",
       "    </tr>\n",
       "    <tr>\n",
       "      <th>17707</th>\n",
       "      <td>Pascoe Vale</td>\n",
       "      <td>25 Northumberland Rd</td>\n",
       "      <td>3</td>\n",
       "      <td>h</td>\n",
       "      <td>NaN</td>\n",
       "      <td>S</td>\n",
       "      <td>Brad</td>\n",
       "      <td>8/07/2017</td>\n",
       "      <td>8.5</td>\n",
       "      <td>3044.0</td>\n",
       "      <td>...</td>\n",
       "      <td>2.0</td>\n",
       "      <td>1.0</td>\n",
       "      <td>797.0</td>\n",
       "      <td>NaN</td>\n",
       "      <td>1970.0</td>\n",
       "      <td>Moreland City Council</td>\n",
       "      <td>-37.72853</td>\n",
       "      <td>144.93135</td>\n",
       "      <td>Northern Metropolitan</td>\n",
       "      <td>7485.0</td>\n",
       "    </tr>\n",
       "  </tbody>\n",
       "</table>\n",
       "<p>5 rows × 21 columns</p>\n",
       "</div>"
      ],
      "text/plain": [
       "            Suburb               Address  Rooms Type      Price Method  \\\n",
       "23371  Pascoe Vale              1 Ann St      4    h  1260000.0      S   \n",
       "33635  Pascoe Vale          7/17 View St      2    t   548000.0     SP   \n",
       "29440    Doncaster        56 Victoria St      3    h  1150000.0     PI   \n",
       "4650     Glen Iris          8 Courang Rd      4    h        NaN      S   \n",
       "17707  Pascoe Vale  25 Northumberland Rd      3    h        NaN      S   \n",
       "\n",
       "             SellerG        Date  Distance  Postcode  ...  Bathroom  Car  \\\n",
       "23371          Eview  26/08/2017       8.5    3044.0  ...       2.0  4.0   \n",
       "33635          Pagan  17/03/2018       8.5    3044.0  ...       NaN  NaN   \n",
       "29440  hockingstuart   6/01/2018      12.4    3108.0  ...       1.0  2.0   \n",
       "4650          Jellis  18/03/2017       9.2    3146.0  ...       2.0  2.0   \n",
       "17707           Brad   8/07/2017       8.5    3044.0  ...       2.0  1.0   \n",
       "\n",
       "       Landsize  BuildingArea  YearBuilt              CouncilArea Lattitude  \\\n",
       "23371     578.0         171.0     1920.0    Moreland City Council -37.73058   \n",
       "33635       NaN           NaN        NaN    Moreland City Council       NaN   \n",
       "29440     675.0           NaN        NaN  Manningham City Council -37.78086   \n",
       "4650      780.0           NaN     1930.0  Boroondara City Council -37.86130   \n",
       "17707     797.0           NaN     1970.0    Moreland City Council -37.72853   \n",
       "\n",
       "       Longtitude             Regionname Propertycount  \n",
       "23371   144.93530  Northern Metropolitan        7485.0  \n",
       "33635         NaN  Northern Metropolitan        7485.0  \n",
       "29440   145.14491   Eastern Metropolitan        9028.0  \n",
       "4650    145.07080  Southern Metropolitan       10412.0  \n",
       "17707   144.93135  Northern Metropolitan        7485.0  \n",
       "\n",
       "[5 rows x 21 columns]"
      ]
     },
     "execution_count": 6,
     "metadata": {},
     "output_type": "execute_result"
    }
   ],
   "source": [
    "df.sample(5)"
   ]
  },
  {
   "cell_type": "markdown",
   "id": "a078020d-fb8d-4a8e-9a5a-e828cfa32660",
   "metadata": {},
   "source": [
    "## Caractéristiques des colonnes (2 points)"
   ]
  },
  {
   "cell_type": "code",
   "execution_count": 7,
   "id": "00785e4c-820f-45e9-842c-357742b2836d",
   "metadata": {
    "nbgrader": {
     "cell_type": "code",
     "checksum": "14b6290a86651362b0d702b97b70b5d0",
     "grade": true,
     "grade_id": "cell-0976de22988c96cd",
     "locked": false,
     "points": 1,
     "schema_version": 3,
     "solution": true,
     "task": false
    }
   },
   "outputs": [
    {
     "name": "stdout",
     "output_type": "stream",
     "text": [
      "<class 'pandas.core.frame.DataFrame'>\n",
      "RangeIndex: 34857 entries, 0 to 34856\n",
      "Data columns (total 21 columns):\n",
      " #   Column         Non-Null Count  Dtype  \n",
      "---  ------         --------------  -----  \n",
      " 0   Suburb         34857 non-null  object \n",
      " 1   Address        34857 non-null  object \n",
      " 2   Rooms          34857 non-null  int64  \n",
      " 3   Type           34857 non-null  object \n",
      " 4   Price          27247 non-null  float64\n",
      " 5   Method         34857 non-null  object \n",
      " 6   SellerG        34857 non-null  object \n",
      " 7   Date           34857 non-null  object \n",
      " 8   Distance       34856 non-null  float64\n",
      " 9   Postcode       34856 non-null  float64\n",
      " 10  Bedroom2       26640 non-null  float64\n",
      " 11  Bathroom       26631 non-null  float64\n",
      " 12  Car            26129 non-null  float64\n",
      " 13  Landsize       23047 non-null  float64\n",
      " 14  BuildingArea   13742 non-null  float64\n",
      " 15  YearBuilt      15551 non-null  float64\n",
      " 16  CouncilArea    34854 non-null  object \n",
      " 17  Lattitude      26881 non-null  float64\n",
      " 18  Longtitude     26881 non-null  float64\n",
      " 19  Regionname     34854 non-null  object \n",
      " 20  Propertycount  34854 non-null  float64\n",
      "dtypes: float64(12), int64(1), object(8)\n",
      "memory usage: 5.6+ MB\n"
     ]
    }
   ],
   "source": [
    "df.info()"
   ]
  },
  {
   "cell_type": "code",
   "execution_count": 8,
   "id": "96e436d1-2f02-4686-980f-dc56288312ed",
   "metadata": {},
   "outputs": [
    {
     "data": {
      "text/plain": [
       "Suburb         object\n",
       "Address        object\n",
       "Type           object\n",
       "Method         object\n",
       "SellerG        object\n",
       "Date           object\n",
       "CouncilArea    object\n",
       "Regionname     object\n",
       "dtype: object"
      ]
     },
     "execution_count": 8,
     "metadata": {},
     "output_type": "execute_result"
    }
   ],
   "source": [
    "df.dtypes[df.dtypes != 'int64'][df.dtypes != 'float64']"
   ]
  },
  {
   "cell_type": "markdown",
   "id": "68520c8b-d043-48da-bee3-7f63293fb744",
   "metadata": {
    "nbgrader": {
     "cell_type": "markdown",
     "checksum": "2a25b7d807b3e7e997844307eff4d624",
     "grade": true,
     "grade_id": "cell-6d7386d05d10102e",
     "locked": false,
     "points": 1,
     "schema_version": 3,
     "solution": true,
     "task": false
    }
   },
   "source": [
    "Les colonnes de type object doivent être retraitées car : \n",
    "\n",
    "- Le type object n'est pas adapté pour réaliser des analyses, régressions et des algotithmes de Data Science \n",
    "- Le type object prend beaucoup de place en mémoire\n",
    "- Les variables temporelles en format texte sont difficilemment exploitables (variable date dans notre cas) "
   ]
  },
  {
   "cell_type": "markdown",
   "id": "7bd61c9d-c34c-41ed-bddc-7b09ac8768a9",
   "metadata": {
    "editable": false,
    "nbgrader": {
     "cell_type": "markdown",
     "checksum": "3cc9200cddda0a2c7a32fd0d76b9b1ea",
     "grade": false,
     "grade_id": "cell-69036a7dede1d075",
     "locked": true,
     "schema_version": 3,
     "solution": false,
     "task": false
    }
   },
   "source": [
    "# Nettoyage et traitement des données (2 points)"
   ]
  },
  {
   "cell_type": "code",
   "execution_count": 9,
   "id": "dcf778ab-ff87-451b-9a93-dffbfba50ebd",
   "metadata": {
    "nbgrader": {
     "cell_type": "code",
     "checksum": "da634f7b7d3f547785d53ed39da76e29",
     "grade": true,
     "grade_id": "cell-72b934ee31505af3",
     "locked": false,
     "points": 1,
     "schema_version": 3,
     "solution": true,
     "task": false
    }
   },
   "outputs": [],
   "source": [
    "# Séries temporelles\n",
    "df['Date'] = pd.to_datetime(df['Date'])\n",
    "df['Date'] = df['Date'].dt.month"
   ]
  },
  {
   "cell_type": "code",
   "execution_count": 10,
   "id": "54f84591-9deb-4f4e-af6e-ed9ff5c87ea5",
   "metadata": {
    "nbgrader": {
     "cell_type": "code",
     "checksum": "591ee4c3da9e29aa86b5ae3915cc4695",
     "grade": true,
     "grade_id": "cell-599a90bfd08dcc2b",
     "locked": false,
     "points": 1,
     "schema_version": 3,
     "solution": true,
     "task": false
    }
   },
   "outputs": [
    {
     "name": "stdout",
     "output_type": "stream",
     "text": [
      "Avant nottoyage\n",
      " Suburb               0\n",
      "Address              0\n",
      "Rooms                0\n",
      "Type                 0\n",
      "Price             7610\n",
      "Method               0\n",
      "SellerG              0\n",
      "Date                 0\n",
      "Distance             1\n",
      "Postcode             1\n",
      "Bedroom2          8217\n",
      "Bathroom          8226\n",
      "Car               8728\n",
      "Landsize         11810\n",
      "BuildingArea     21115\n",
      "YearBuilt        19306\n",
      "CouncilArea          3\n",
      "Lattitude         7976\n",
      "Longtitude        7976\n",
      "Regionname           3\n",
      "Propertycount        3\n",
      "dtype: int64\n",
      "\n",
      "Apres nettoyage\n",
      " Suburb           0\n",
      "Rooms            0\n",
      "Type             0\n",
      "Price            0\n",
      "Method           0\n",
      "Date             0\n",
      "Distance         0\n",
      "Landsize         0\n",
      "Regionname       0\n",
      "Propertycount    0\n",
      "dtype: int64\n"
     ]
    }
   ],
   "source": [
    "print('Avant nottoyage\\n', df.isnull().sum()) \n",
    "\n",
    "df.dropna(subset = ['Price'], inplace = True) # variable expliquée\n",
    "\n",
    "# suppression de variables non pertinentes (superflues/valeurs manquantes) pour l'analyse\n",
    "df.drop(['Address', 'SellerG', 'Bedroom2', 'YearBuilt', 'Bathroom', 'Car', 'BuildingArea','Lattitude','Longtitude', 'Postcode', 'CouncilArea'], axis = 1, inplace = True) \n",
    "\n",
    "# Variables continues\n",
    "variables_continues = dict(df.dtypes[(df.dtypes == 'float64') | (df.dtypes == 'int64') ])\n",
    "\n",
    "for elem in variables_continues.keys() : \n",
    "    df[elem] = df[elem].fillna(df[elem].median())\n",
    "\n",
    "# Variables catégorielles\n",
    "variables_catégories = dict(df.dtypes[df.dtypes != 'int64'][df.dtypes != 'float64'])\n",
    "\n",
    "for elem in variables_catégories.keys() : \n",
    "    df[elem] = df[elem].astype('category')\n",
    "    \n",
    "df = df.fillna(df.mode().iloc[0])\n",
    "\n",
    "print() \n",
    "print('Apres nettoyage\\n', df.isnull().sum()) "
   ]
  },
  {
   "cell_type": "markdown",
   "id": "1ad6d871-a7e2-4f66-b45a-38dbc12bf4f5",
   "metadata": {
    "editable": false,
    "nbgrader": {
     "cell_type": "markdown",
     "checksum": "eec8c8ee1a8129ae9492ac933b2dec80",
     "grade": false,
     "grade_id": "cell-06215fd0fe6e9f27",
     "locked": true,
     "schema_version": 3,
     "solution": false,
     "task": false
    }
   },
   "source": [
    "# Analyse approfondie"
   ]
  },
  {
   "cell_type": "markdown",
   "id": "9b2e2181-6eb4-42e7-a870-10b2c3752bd0",
   "metadata": {
    "editable": false,
    "nbgrader": {
     "cell_type": "markdown",
     "checksum": "534b0a3dc7035c380d1a75f010500287",
     "grade": false,
     "grade_id": "cell-9030533393835546",
     "locked": true,
     "schema_version": 3,
     "solution": false,
     "task": false
    }
   },
   "source": [
    "## Analyse des statistiques descriptives (2 points)"
   ]
  },
  {
   "cell_type": "code",
   "execution_count": 11,
   "id": "8c45658d-744a-4a73-9e83-01d63d7c4c54",
   "metadata": {
    "nbgrader": {
     "cell_type": "code",
     "checksum": "b9214f3f79973262b50599f77dd4192e",
     "grade": true,
     "grade_id": "cell-84b56a0ecdc99755",
     "locked": false,
     "points": 1,
     "schema_version": 3,
     "solution": true,
     "task": false
    }
   },
   "outputs": [
    {
     "data": {
      "text/html": [
       "<div>\n",
       "<style scoped>\n",
       "    .dataframe tbody tr th:only-of-type {\n",
       "        vertical-align: middle;\n",
       "    }\n",
       "\n",
       "    .dataframe tbody tr th {\n",
       "        vertical-align: top;\n",
       "    }\n",
       "\n",
       "    .dataframe thead th {\n",
       "        text-align: right;\n",
       "    }\n",
       "</style>\n",
       "<table border=\"1\" class=\"dataframe\">\n",
       "  <thead>\n",
       "    <tr style=\"text-align: right;\">\n",
       "      <th></th>\n",
       "      <th>Suburb</th>\n",
       "      <th>Type</th>\n",
       "      <th>Method</th>\n",
       "      <th>Regionname</th>\n",
       "    </tr>\n",
       "  </thead>\n",
       "  <tbody>\n",
       "    <tr>\n",
       "      <th>count</th>\n",
       "      <td>27247</td>\n",
       "      <td>27247</td>\n",
       "      <td>27247</td>\n",
       "      <td>27247</td>\n",
       "    </tr>\n",
       "    <tr>\n",
       "      <th>unique</th>\n",
       "      <td>345</td>\n",
       "      <td>3</td>\n",
       "      <td>5</td>\n",
       "      <td>8</td>\n",
       "    </tr>\n",
       "    <tr>\n",
       "      <th>top</th>\n",
       "      <td>Reservoir</td>\n",
       "      <td>h</td>\n",
       "      <td>S</td>\n",
       "      <td>Southern Metropolitan</td>\n",
       "    </tr>\n",
       "    <tr>\n",
       "      <th>freq</th>\n",
       "      <td>727</td>\n",
       "      <td>18472</td>\n",
       "      <td>17515</td>\n",
       "      <td>8527</td>\n",
       "    </tr>\n",
       "  </tbody>\n",
       "</table>\n",
       "</div>"
      ],
      "text/plain": [
       "           Suburb   Type Method             Regionname\n",
       "count       27247  27247  27247                  27247\n",
       "unique        345      3      5                      8\n",
       "top     Reservoir      h      S  Southern Metropolitan\n",
       "freq          727  18472  17515                   8527"
      ]
     },
     "execution_count": 11,
     "metadata": {},
     "output_type": "execute_result"
    }
   ],
   "source": [
    "df.describe(exclude = (['float64', 'int64']))"
   ]
  },
  {
   "cell_type": "code",
   "execution_count": 12,
   "id": "75a897df-23d8-4058-bfd3-6bcb068c8d7b",
   "metadata": {},
   "outputs": [
    {
     "data": {
      "text/html": [
       "<div>\n",
       "<style scoped>\n",
       "    .dataframe tbody tr th:only-of-type {\n",
       "        vertical-align: middle;\n",
       "    }\n",
       "\n",
       "    .dataframe tbody tr th {\n",
       "        vertical-align: top;\n",
       "    }\n",
       "\n",
       "    .dataframe thead th {\n",
       "        text-align: right;\n",
       "    }\n",
       "</style>\n",
       "<table border=\"1\" class=\"dataframe\">\n",
       "  <thead>\n",
       "    <tr style=\"text-align: right;\">\n",
       "      <th></th>\n",
       "      <th>Rooms</th>\n",
       "      <th>Price</th>\n",
       "      <th>Date</th>\n",
       "      <th>Distance</th>\n",
       "      <th>Landsize</th>\n",
       "      <th>Propertycount</th>\n",
       "    </tr>\n",
       "  </thead>\n",
       "  <tbody>\n",
       "    <tr>\n",
       "      <th>count</th>\n",
       "      <td>27247.000000</td>\n",
       "      <td>2.724700e+04</td>\n",
       "      <td>27247.000000</td>\n",
       "      <td>27247.000000</td>\n",
       "      <td>27247.000000</td>\n",
       "      <td>27247.000000</td>\n",
       "    </tr>\n",
       "    <tr>\n",
       "      <th>mean</th>\n",
       "      <td>2.992293</td>\n",
       "      <td>1.050173e+06</td>\n",
       "      <td>6.959188</td>\n",
       "      <td>11.280247</td>\n",
       "      <td>565.779645</td>\n",
       "      <td>7566.671010</td>\n",
       "    </tr>\n",
       "    <tr>\n",
       "      <th>std</th>\n",
       "      <td>0.954795</td>\n",
       "      <td>6.414671e+05</td>\n",
       "      <td>3.019406</td>\n",
       "      <td>6.787346</td>\n",
       "      <td>3052.546357</td>\n",
       "      <td>4492.147337</td>\n",
       "    </tr>\n",
       "    <tr>\n",
       "      <th>min</th>\n",
       "      <td>1.000000</td>\n",
       "      <td>8.500000e+04</td>\n",
       "      <td>1.000000</td>\n",
       "      <td>0.000000</td>\n",
       "      <td>0.000000</td>\n",
       "      <td>83.000000</td>\n",
       "    </tr>\n",
       "    <tr>\n",
       "      <th>25%</th>\n",
       "      <td>2.000000</td>\n",
       "      <td>6.350000e+05</td>\n",
       "      <td>4.000000</td>\n",
       "      <td>6.400000</td>\n",
       "      <td>351.000000</td>\n",
       "      <td>4294.000000</td>\n",
       "    </tr>\n",
       "    <tr>\n",
       "      <th>50%</th>\n",
       "      <td>3.000000</td>\n",
       "      <td>8.700000e+05</td>\n",
       "      <td>7.000000</td>\n",
       "      <td>10.500000</td>\n",
       "      <td>512.000000</td>\n",
       "      <td>6567.000000</td>\n",
       "    </tr>\n",
       "    <tr>\n",
       "      <th>75%</th>\n",
       "      <td>4.000000</td>\n",
       "      <td>1.295000e+06</td>\n",
       "      <td>10.000000</td>\n",
       "      <td>14.000000</td>\n",
       "      <td>592.000000</td>\n",
       "      <td>10412.000000</td>\n",
       "    </tr>\n",
       "    <tr>\n",
       "      <th>max</th>\n",
       "      <td>16.000000</td>\n",
       "      <td>1.120000e+07</td>\n",
       "      <td>12.000000</td>\n",
       "      <td>48.100000</td>\n",
       "      <td>433014.000000</td>\n",
       "      <td>21650.000000</td>\n",
       "    </tr>\n",
       "  </tbody>\n",
       "</table>\n",
       "</div>"
      ],
      "text/plain": [
       "              Rooms         Price          Date      Distance       Landsize  \\\n",
       "count  27247.000000  2.724700e+04  27247.000000  27247.000000   27247.000000   \n",
       "mean       2.992293  1.050173e+06      6.959188     11.280247     565.779645   \n",
       "std        0.954795  6.414671e+05      3.019406      6.787346    3052.546357   \n",
       "min        1.000000  8.500000e+04      1.000000      0.000000       0.000000   \n",
       "25%        2.000000  6.350000e+05      4.000000      6.400000     351.000000   \n",
       "50%        3.000000  8.700000e+05      7.000000     10.500000     512.000000   \n",
       "75%        4.000000  1.295000e+06     10.000000     14.000000     592.000000   \n",
       "max       16.000000  1.120000e+07     12.000000     48.100000  433014.000000   \n",
       "\n",
       "       Propertycount  \n",
       "count   27247.000000  \n",
       "mean     7566.671010  \n",
       "std      4492.147337  \n",
       "min        83.000000  \n",
       "25%      4294.000000  \n",
       "50%      6567.000000  \n",
       "75%     10412.000000  \n",
       "max     21650.000000  "
      ]
     },
     "execution_count": 12,
     "metadata": {},
     "output_type": "execute_result"
    }
   ],
   "source": [
    "df.describe()"
   ]
  },
  {
   "cell_type": "markdown",
   "id": "7e0a641a-8823-416f-9f10-0cedf443c253",
   "metadata": {
    "nbgrader": {
     "cell_type": "markdown",
     "checksum": "9ddb1c450dbb2ef80c740de60ac9622f",
     "grade": true,
     "grade_id": "cell-0ee4775490e7f074",
     "locked": false,
     "points": 1,
     "schema_version": 3,
     "solution": true,
     "task": false
    }
   },
   "source": [
    "\n",
    "\n",
    "- Prix de ventes des propriétés **hétérogènes**, entre  85.000\\\\$ et 11.200.000\\\\$, la médiane est de  870.000\\\\$ \n",
    "- La majorité des ventes ont concerné des **maisons**(Type h), vendues au **milieu** de l'année, possédant **moins** de **4 chambres**  \n",
    "- La majorité des propriétés vendues se trouvent dans un rayon de **6km à 14km** du quartier d'affaires, dans la région de **Southern Metropolitan** dans la banlieue **Reservoir**\t"
   ]
  },
  {
   "cell_type": "markdown",
   "id": "337f115b-9fd9-4002-b687-66bd81076a04",
   "metadata": {
    "editable": false,
    "nbgrader": {
     "cell_type": "markdown",
     "checksum": "d6720c3c2a0afbb49e09e892bbf9881b",
     "grade": false,
     "grade_id": "cell-4e0367f4c17037e1",
     "locked": true,
     "schema_version": 3,
     "solution": false,
     "task": false
    }
   },
   "source": [
    "## Croisement (4 points)"
   ]
  },
  {
   "cell_type": "code",
   "execution_count": 13,
   "id": "f7116b43-3169-469a-9984-68069911008a",
   "metadata": {
    "nbgrader": {
     "cell_type": "code",
     "checksum": "a9d15524272d4e9597f4524854d217ad",
     "grade": true,
     "grade_id": "cell-2a3ea08ec8de9b50",
     "locked": false,
     "points": 1,
     "schema_version": 3,
     "solution": true,
     "task": false
    }
   },
   "outputs": [
    {
     "data": {
      "text/plain": [
       "<AxesSubplot:xlabel='Rooms', ylabel='Regionname'>"
      ]
     },
     "execution_count": 13,
     "metadata": {},
     "output_type": "execute_result"
    },
    {
     "data": {
      "image/png": "[encoded data removed]",
      "text/plain": [
       "<Figure size 864x576 with 2 Axes>"
      ]
     },
     "metadata": {},
     "output_type": "display_data"
    }
   ],
   "source": [
    "table = pd.crosstab(df['Regionname'], df['Rooms'],  margins=True)\n",
    "sns.heatmap(table, annot=True, fmt='.0f',)"
   ]
  },
  {
   "cell_type": "code",
   "execution_count": 14,
   "id": "395528c1-81d3-433e-9b01-f5c620fd3c42",
   "metadata": {
    "nbgrader": {
     "cell_type": "code",
     "checksum": "18150b6811346e59fc3bfd36df6a5890",
     "grade": true,
     "grade_id": "cell-8e69586f7c9ca1af",
     "locked": false,
     "points": 1,
     "schema_version": 3,
     "solution": true,
     "task": false
    }
   },
   "outputs": [
    {
     "data": {
      "text/html": [
       "<div>\n",
       "<style scoped>\n",
       "    .dataframe tbody tr th:only-of-type {\n",
       "        vertical-align: middle;\n",
       "    }\n",
       "\n",
       "    .dataframe tbody tr th {\n",
       "        vertical-align: top;\n",
       "    }\n",
       "\n",
       "    .dataframe thead th {\n",
       "        text-align: right;\n",
       "    }\n",
       "</style>\n",
       "<table border=\"1\" class=\"dataframe\">\n",
       "  <thead>\n",
       "    <tr style=\"text-align: right;\">\n",
       "      <th>Type</th>\n",
       "      <th>h</th>\n",
       "      <th>t</th>\n",
       "      <th>u</th>\n",
       "    </tr>\n",
       "    <tr>\n",
       "      <th>Regionname</th>\n",
       "      <th></th>\n",
       "      <th></th>\n",
       "      <th></th>\n",
       "    </tr>\n",
       "  </thead>\n",
       "  <tbody>\n",
       "    <tr>\n",
       "      <th>Western Victoria</th>\n",
       "      <td>4.357473e+05</td>\n",
       "      <td>0.000000e+00</td>\n",
       "      <td>285000.000000</td>\n",
       "    </tr>\n",
       "    <tr>\n",
       "      <th>Northern Victoria</th>\n",
       "      <td>6.200957e+05</td>\n",
       "      <td>6.480000e+05</td>\n",
       "      <td>553000.000000</td>\n",
       "    </tr>\n",
       "    <tr>\n",
       "      <th>Eastern Victoria</th>\n",
       "      <td>7.224055e+05</td>\n",
       "      <td>6.650000e+05</td>\n",
       "      <td>477200.000000</td>\n",
       "    </tr>\n",
       "    <tr>\n",
       "      <th>Western Metropolitan</th>\n",
       "      <td>9.117659e+05</td>\n",
       "      <td>7.317620e+05</td>\n",
       "      <td>506385.872996</td>\n",
       "    </tr>\n",
       "    <tr>\n",
       "      <th>South-Eastern Metropolitan</th>\n",
       "      <td>9.346073e+05</td>\n",
       "      <td>8.587416e+05</td>\n",
       "      <td>570781.081081</td>\n",
       "    </tr>\n",
       "    <tr>\n",
       "      <th>Northern Metropolitan</th>\n",
       "      <td>9.759481e+05</td>\n",
       "      <td>7.281634e+05</td>\n",
       "      <td>570048.846063</td>\n",
       "    </tr>\n",
       "    <tr>\n",
       "      <th>Eastern Metropolitan</th>\n",
       "      <td>1.197360e+06</td>\n",
       "      <td>9.272652e+05</td>\n",
       "      <td>705566.245940</td>\n",
       "    </tr>\n",
       "    <tr>\n",
       "      <th>Southern Metropolitan</th>\n",
       "      <td>1.847792e+06</td>\n",
       "      <td>1.224860e+06</td>\n",
       "      <td>690879.513475</td>\n",
       "    </tr>\n",
       "  </tbody>\n",
       "</table>\n",
       "</div>"
      ],
      "text/plain": [
       "Type                                   h             t              u\n",
       "Regionname                                                           \n",
       "Western Victoria            4.357473e+05  0.000000e+00  285000.000000\n",
       "Northern Victoria           6.200957e+05  6.480000e+05  553000.000000\n",
       "Eastern Victoria            7.224055e+05  6.650000e+05  477200.000000\n",
       "Western Metropolitan        9.117659e+05  7.317620e+05  506385.872996\n",
       "South-Eastern Metropolitan  9.346073e+05  8.587416e+05  570781.081081\n",
       "Northern Metropolitan       9.759481e+05  7.281634e+05  570048.846063\n",
       "Eastern Metropolitan        1.197360e+06  9.272652e+05  705566.245940\n",
       "Southern Metropolitan       1.847792e+06  1.224860e+06  690879.513475"
      ]
     },
     "execution_count": 14,
     "metadata": {},
     "output_type": "execute_result"
    }
   ],
   "source": [
    "df_pivot = df.pivot_table(\n",
    "    values ='Price', \n",
    "    index = 'Regionname',\n",
    "    columns = 'Type', \n",
    "    aggfunc = 'mean', \n",
    "    fill_value = 0 )\n",
    "\n",
    "df_pivot.sort_values(by = ['h']) # tri par maisons, car type de propiété le plus vendu"
   ]
  },
  {
   "cell_type": "code",
   "execution_count": 15,
   "id": "fee515ce-09f7-4c4e-a670-38210cade9ec",
   "metadata": {
    "nbgrader": {
     "cell_type": "code",
     "checksum": "04a592df02fc59a608581e362c03f86c",
     "grade": true,
     "grade_id": "cell-b7311105b168c1a5",
     "locked": false,
     "points": 1,
     "schema_version": 3,
     "solution": true,
     "task": false
    }
   },
   "outputs": [
    {
     "data": {
      "text/plain": [
       "<AxesSubplot:>"
      ]
     },
     "execution_count": 15,
     "metadata": {},
     "output_type": "execute_result"
    },
    {
     "data": {
      "image/png": "[encoded data removed]",
      "text/plain": [
       "<Figure size 864x576 with 2 Axes>"
      ]
     },
     "metadata": {},
     "output_type": "display_data"
    }
   ],
   "source": [
    "sns.heatmap(\n",
    "    100*df.corr(), \n",
    "    square=True, \n",
    "    annot=True, \n",
    "    fmt='.1f', \n",
    "    cmap=sns.cm.vlag )"
   ]
  },
  {
   "cell_type": "markdown",
   "id": "7547def0-2e36-4c90-8682-1c72780294fd",
   "metadata": {
    "nbgrader": {
     "cell_type": "markdown",
     "checksum": "3daa6d941374ad9cf5d1552eaf5bad56",
     "grade": true,
     "grade_id": "cell-4c7fb99864121213",
     "locked": false,
     "points": 1,
     "schema_version": 3,
     "solution": true,
     "task": false
    }
   },
   "source": [
    "\n",
    "\n",
    "- **Northern Metropolitan** et **Southern Metropolitan** sont les régions avec la demande la plus forte, **Western Victoria** se place en dernier\n",
    "- En moyenne, les prix sont les plus élevés dans les régions **Southern et Eastern Metropolitan**, contrairement à l'ensemble de la région **Victoria** qui est la plus accessible\n",
    "- Plus la distance par rapport au centre ville est **faible**, plus le prix est **élevé**. Plus le nombre de chambres est **élevé**, plus le prix est **important**\n",
    "- Plus on **s'éloigne** du centre ville, plus la demande pour les maisons(grande espace) **augmente** "
   ]
  },
  {
   "cell_type": "markdown",
   "id": "f0eb1ec2-91b2-4009-b0cf-e2308dd74ea8",
   "metadata": {
    "editable": false,
    "nbgrader": {
     "cell_type": "markdown",
     "checksum": "fff6c52760787870af96b2cf1c581a1b",
     "grade": false,
     "grade_id": "cell-58df14dc9efbf1be",
     "locked": true,
     "schema_version": 3,
     "solution": false,
     "task": false
    }
   },
   "source": [
    "## Graphiques (4 points)"
   ]
  },
  {
   "cell_type": "code",
   "execution_count": 16,
   "id": "e14b760c-09e8-4a9c-bab6-89fc7d5cf2a5",
   "metadata": {
    "nbgrader": {
     "cell_type": "code",
     "checksum": "8dac60aa97be14e3a7d03ddf62c40695",
     "grade": true,
     "grade_id": "cell-6b354ac6bccda4ad",
     "locked": false,
     "points": 1,
     "schema_version": 3,
     "solution": true,
     "task": false
    }
   },
   "outputs": [
    {
     "data": {
      "text/plain": [
       "Text(0.5, 1.0, 'Histogramme Distance')"
      ]
     },
     "execution_count": 16,
     "metadata": {},
     "output_type": "execute_result"
    },
    {
     "data": {
      "image/png": "[encoded data removed]",
      "text/plain": [
       "<Figure size 864x576 with 2 Axes>"
      ]
     },
     "metadata": {},
     "output_type": "display_data"
    }
   ],
   "source": [
    "plt.subplot(1,2,1) \n",
    "df['Price'].plot.hist(\n",
    "    bins=100, \n",
    "    density=True, color = \"red\" )\n",
    "plt.xlabel('Price')\n",
    "plt.title('Histogramme Price')\n",
    "\n",
    "plt.subplot(1,2,2) \n",
    "df['Distance'].plot.hist(\n",
    "    bins=100, \n",
    "    density=True, color = \"red\" )\n",
    "plt.xlabel('Distance')\n",
    "plt.title('Histogramme Distance')"
   ]
  },
  {
   "cell_type": "code",
   "execution_count": 17,
   "id": "8c3f396c-f570-430c-98c5-f3cc0307125a",
   "metadata": {
    "nbgrader": {
     "cell_type": "code",
     "checksum": "018a40bca2571846211b37a0a9ad91e0",
     "grade": true,
     "grade_id": "cell-0ed0e5cc54e509de",
     "locked": false,
     "points": 1,
     "schema_version": 3,
     "solution": true,
     "task": false
    }
   },
   "outputs": [
    {
     "data": {
      "text/plain": [
       "Text(0.5, 1.0, 'Boite à moustache Distance')"
      ]
     },
     "execution_count": 17,
     "metadata": {},
     "output_type": "execute_result"
    },
    {
     "data": {
      "image/png": "[encoded data removed]",
      "text/plain": [
       "<Figure size 864x576 with 2 Axes>"
      ]
     },
     "metadata": {},
     "output_type": "display_data"
    }
   ],
   "source": [
    "plt.subplot(1,2,1)\n",
    "df['Price'].plot.box(vert=False)\n",
    "plt.title('Boite à moustache Price') \n",
    "\n",
    "plt.subplot(1,2,2)\n",
    "df['Distance'].plot.box(vert=False)\n",
    "plt.title('Boite à moustache Distance') "
   ]
  },
  {
   "cell_type": "code",
   "execution_count": 18,
   "id": "dfef6351-f020-4b92-8fa2-861b009ada5e",
   "metadata": {
    "nbgrader": {
     "cell_type": "code",
     "checksum": "16c23676ccf84a645d9187cf34e08b5a",
     "grade": true,
     "grade_id": "cell-d8b44982398c0943",
     "locked": false,
     "points": 1,
     "schema_version": 3,
     "solution": true,
     "task": false
    }
   },
   "outputs": [
    {
     "name": "stderr",
     "output_type": "stream",
     "text": [
      "C:\\Users\\ghiles\\anaconda3\\lib\\site-packages\\seaborn\\_decorators.py:36: FutureWarning: Pass the following variables as keyword args: x, y. From version 0.12, the only valid positional argument will be `data`, and passing other arguments without an explicit keyword will result in an error or misinterpretation.\n",
      "  warnings.warn(\n"
     ]
    },
    {
     "data": {
      "text/plain": [
       "<AxesSubplot:xlabel='Distance', ylabel='Price'>"
      ]
     },
     "execution_count": 18,
     "metadata": {},
     "output_type": "execute_result"
    },
    {
     "data": {
      "image/png": "[encoded data removed]",
      "text/plain": [
       "<Figure size 864x576 with 1 Axes>"
      ]
     },
     "metadata": {},
     "output_type": "display_data"
    }
   ],
   "source": [
    "sns.regplot(\n",
    "    df['Distance'], df['Price'] , \n",
    "    scatter_kws = {'color': 'red'}, line_kws = {'color': 'blue'} )"
   ]
  },
  {
   "cell_type": "markdown",
   "id": "3dc17421-f244-400f-92ba-8f8a49b5315f",
   "metadata": {
    "nbgrader": {
     "cell_type": "markdown",
     "checksum": "d58ed065a9b6d72d70728125d7f89403",
     "grade": true,
     "grade_id": "cell-31388092d53359ea",
     "locked": false,
     "points": 1,
     "schema_version": 3,
     "solution": true,
     "task": false
    }
   },
   "source": [
    "\n",
    "- **Large distribution** des prix, une moyenne **sensible aux valeurs extrêmes** avec un **biais** vers la droite : une petite proportion des propriétés vendues coûte trés cher  \n",
    "- La distance est **biaisé** vers la droite, la majorité des propiétés vendues se situent à moins de 20km du centre ville \n",
    "- Relation entre le prix et la distance : Plus la distance par rapport au centre ville est petite, plus le prix de la maison est élevé"
   ]
  }
 ],
 "metadata": {
  "kernelspec": {
   "display_name": "Python 3 (ipykernel)",
   "language": "python",
   "name": "python3"
  },
  "language_info": {
   "codemirror_mode": {
    "name": "ipython",
    "version": 3
   },
   "file_extension": ".py",
   "mimetype": "text/x-python",
   "name": "python",
   "nbconvert_exporter": "python",
   "pygments_lexer": "ipython3",
   "version": "3.9.7"
  }
 },
 "nbformat": 4,
 "nbformat_minor": 5
}
